{
 "metadata": {
  "name": "ipython-tutor"
 },
 "nbformat": 3,
 "nbformat_minor": 0,
 "worksheets": [
  {
   "cells": [
    {
     "cell_type": "code",
     "collapsed": false,
     "input": [
      "from IPython.lib.display import YouTubeVideo\n",
      "YouTubeVideo(\"4vuW6tQ0218\")"
     ],
     "language": "python",
     "metadata": {},
     "outputs": [
      {
       "html": [
        "\n",
        "        <iframe\n",
        "            width=\"400\"\n",
        "            height=300\"\n",
        "            src=\"http://www.youtube.com/embed/4vuW6tQ0218\"\n",
        "            frameborder=\"0\"\n",
        "            allowfullscreen\n",
        "        ></iframe>\n",
        "        "
       ],
       "metadata": {},
       "output_type": "pyout",
       "prompt_number": 1,
       "text": [
        "<IPython.lib.display.YouTubeVideo at 0x3856810>"
       ]
      }
     ],
     "prompt_number": 1
    },
    {
     "cell_type": "markdown",
     "metadata": {},
     "source": [
      "IPython Tutorial\n",
      "=================\n",
      "\n",
      "By [Paul Ivanov](http://pirsquared.org)\n",
      "\n",
      "<!-- Giving an IPython tutorial in front of [Fernando Perez](http://fperez.org) is kind of like introducing an Apple product in front of Steve Jobs. -->"
     ]
    },
    {
     "cell_type": "code",
     "collapsed": true,
     "input": [
      "parrot = \"dead\""
     ],
     "language": "python",
     "metadata": {},
     "outputs": [],
     "prompt_number": 2
    },
    {
     "cell_type": "code",
     "collapsed": false,
     "input": [
      "parrot"
     ],
     "language": "python",
     "metadata": {},
     "outputs": [
      {
       "metadata": {},
       "output_type": "pyout",
       "prompt_number": 3,
       "text": [
        "'dead'"
       ]
      }
     ],
     "prompt_number": 3
    },
    {
     "cell_type": "markdown",
     "metadata": {},
     "source": [
      "Tab completion: `obj.<tab>`"
     ]
    },
    {
     "cell_type": "code",
     "collapsed": true,
     "input": [
      "parrot"
     ],
     "language": "python",
     "metadata": {},
     "outputs": [
      {
       "metadata": {},
       "output_type": "pyout",
       "prompt_number": 4,
       "text": [
        "'dead'"
       ]
      }
     ],
     "prompt_number": 4
    },
    {
     "cell_type": "markdown",
     "metadata": {},
     "source": [
      "Introspection:"
     ]
    },
    {
     "cell_type": "code",
     "collapsed": true,
     "input": [
      "parrot.upper?"
     ],
     "language": "python",
     "metadata": {},
     "outputs": [],
     "prompt_number": 5
    },
    {
     "cell_type": "code",
     "collapsed": false,
     "input": [
      "parrot.upper()"
     ],
     "language": "python",
     "metadata": {},
     "outputs": [
      {
       "metadata": {},
       "output_type": "pyout",
       "prompt_number": 6,
       "text": [
        "'DEAD'"
       ]
      }
     ],
     "prompt_number": 6
    },
    {
     "cell_type": "code",
     "collapsed": true,
     "input": [
      "import os.path"
     ],
     "language": "python",
     "metadata": {},
     "outputs": [],
     "prompt_number": 7
    },
    {
     "cell_type": "markdown",
     "metadata": {},
     "source": [
      "Code-level introspection:"
     ]
    },
    {
     "cell_type": "code",
     "collapsed": true,
     "input": [
      "os.path.join??"
     ],
     "language": "python",
     "metadata": {},
     "outputs": [],
     "prompt_number": 8
    },
    {
     "cell_type": "markdown",
     "metadata": {},
     "source": [
      "Knowing a partial name, find it"
     ]
    },
    {
     "cell_type": "code",
     "collapsed": true,
     "input": [
      "# ends with \"py\"\n",
      "*py?"
     ],
     "language": "python",
     "metadata": {},
     "outputs": [],
     "prompt_number": 9
    },
    {
     "cell_type": "code",
     "collapsed": true,
     "input": [
      "# has \"py\" in it\n",
      "*py*?"
     ],
     "language": "python",
     "metadata": {},
     "outputs": [],
     "prompt_number": 10
    },
    {
     "cell_type": "markdown",
     "metadata": {},
     "source": [
      "Bring out your dead!"
     ]
    },
    {
     "cell_type": "code",
     "collapsed": true,
     "input": [
      "peasant = \"I'm not dead, yet\""
     ],
     "language": "python",
     "metadata": {},
     "outputs": [],
     "prompt_number": 11
    },
    {
     "cell_type": "code",
     "collapsed": false,
     "input": [
      "peasant"
     ],
     "language": "python",
     "metadata": {},
     "outputs": [
      {
       "metadata": {},
       "output_type": "pyout",
       "prompt_number": 12,
       "text": [
        "\"I'm not dead, yet\""
       ]
      }
     ],
     "prompt_number": 12
    },
    {
     "cell_type": "markdown",
     "metadata": {},
     "source": [
      "u'' is just a unicode string, which is what IPython uses internally , don't worry about that, you'll be stone dead\n",
      "\n",
      "In-n-Out\n",
      "--------\n",
      "You can access previous 3 results using `_`, `__`, and `___` (single-, double-, and triple-underscore).\n",
      "\n",
      "For all others, you can use either `Out[42]` or `_42`.\n",
      "\n",
      "Similarly, for the input strings, access the previous 3 using `_i`, `_ii`, `_iii`.\n",
      "\n",
      "For all others, you can use either `In[42]` or `_i42`."
     ]
    },
    {
     "cell_type": "code",
     "collapsed": true,
     "input": [
      "peasant = Out[4]"
     ],
     "language": "python",
     "metadata": {},
     "outputs": [],
     "prompt_number": 13
    },
    {
     "cell_type": "code",
     "collapsed": false,
     "input": [
      "peasant"
     ],
     "language": "python",
     "metadata": {},
     "outputs": [
      {
       "metadata": {},
       "output_type": "pyout",
       "prompt_number": 14,
       "text": [
        "'dead'"
       ]
      }
     ],
     "prompt_number": 14
    },
    {
     "cell_type": "code",
     "collapsed": true,
     "input": [
      "peasant = peasant + _i"
     ],
     "language": "python",
     "metadata": {},
     "outputs": [],
     "prompt_number": 15
    },
    {
     "cell_type": "code",
     "collapsed": false,
     "input": [
      "peasant"
     ],
     "language": "python",
     "metadata": {},
     "outputs": [
      {
       "metadata": {},
       "output_type": "pyout",
       "prompt_number": 16,
       "text": [
        "u'deadpeasant'"
       ]
      }
     ],
     "prompt_number": 16
    },
    {
     "cell_type": "code",
     "collapsed": false,
     "input": [
      "%whos"
     ],
     "language": "python",
     "metadata": {},
     "outputs": [
      {
       "output_type": "stream",
       "stream": "stdout",
       "text": [
        "Variable       Type       Data/Info\n",
        "-----------------------------------\n",
        "YouTubeVideo   type       <class 'IPython.lib.display.YouTubeVideo'>\n",
        "os             module     <module 'os' from '/usr/lib/python2.7/os.pyc'>\n",
        "parrot         str        dead\n",
        "peasant        unicode    deadpeasant\n"
       ]
      }
     ],
     "prompt_number": 17
    },
    {
     "cell_type": "code",
     "collapsed": true,
     "input": [
      "%magic"
     ],
     "language": "python",
     "metadata": {},
     "outputs": [],
     "prompt_number": 18
    },
    {
     "cell_type": "code",
     "collapsed": true,
     "input": [
      "%reset -f"
     ],
     "language": "python",
     "metadata": {},
     "outputs": [],
     "prompt_number": 19
    },
    {
     "cell_type": "code",
     "collapsed": false,
     "input": [
      "%whos"
     ],
     "language": "python",
     "metadata": {},
     "outputs": [
      {
       "output_type": "stream",
       "stream": "stdout",
       "text": [
        "Interactive namespace is empty.\n"
       ]
      }
     ],
     "prompt_number": 20
    },
    {
     "cell_type": "markdown",
     "metadata": {},
     "source": [
      "Running shell commands"
     ]
    },
    {
     "cell_type": "code",
     "collapsed": false,
     "input": [
      "!ipython --version"
     ],
     "language": "python",
     "metadata": {},
     "outputs": [
      {
       "output_type": "stream",
       "stream": "stdout",
       "text": [
        "1.0.dev\r\n"
       ]
      }
     ],
     "prompt_number": 21
    },
    {
     "cell_type": "markdown",
     "metadata": {},
     "source": [
      "Getting shell output back in python"
     ]
    },
    {
     "cell_type": "code",
     "collapsed": false,
     "input": [
      "v = !ipython --version\n",
      "v"
     ],
     "language": "python",
     "metadata": {},
     "outputs": [
      {
       "metadata": {},
       "output_type": "pyout",
       "prompt_number": 22,
       "text": [
        "['1.0.dev']"
       ]
      }
     ],
     "prompt_number": 22
    },
    {
     "cell_type": "code",
     "collapsed": false,
     "input": [
      "!ls"
     ],
     "language": "python",
     "metadata": {},
     "outputs": [
      {
       "output_type": "stream",
       "stream": "stdout",
       "text": [
        "data_analysis_and_exploration.ipynb  ipythonblocks\t  python-introduction.ipynb\r\n",
        "double_underscore_demo.py\t     ipython-tutor.ipynb  scientific-computing.ipynb\r\n",
        "double_underscore_demo.pyc\t     matplotlib\t\t  scipy\r\n",
        "f2py\t\t\t\t     numpy\t\t  testing\r\n",
        "famousauthors.txt\t\t     phonenums.txt\r\n"
       ]
      }
     ],
     "prompt_number": 23
    },
    {
     "cell_type": "code",
     "collapsed": true,
     "input": [
      "files = !ls"
     ],
     "language": "python",
     "metadata": {},
     "outputs": [],
     "prompt_number": 24
    },
    {
     "cell_type": "code",
     "collapsed": true,
     "input": [
      "files?"
     ],
     "language": "python",
     "metadata": {},
     "outputs": [],
     "prompt_number": 25
    },
    {
     "cell_type": "code",
     "collapsed": false,
     "input": [
      "files.l"
     ],
     "language": "python",
     "metadata": {},
     "outputs": [
      {
       "metadata": {},
       "output_type": "pyout",
       "prompt_number": 26,
       "text": [
        "['data_analysis_and_exploration.ipynb',\n",
        " 'double_underscore_demo.py',\n",
        " 'double_underscore_demo.pyc',\n",
        " 'f2py',\n",
        " 'famousauthors.txt',\n",
        " 'ipythonblocks',\n",
        " 'ipython-tutor.ipynb',\n",
        " 'matplotlib',\n",
        " 'numpy',\n",
        " 'phonenums.txt',\n",
        " 'python-introduction.ipynb',\n",
        " 'scientific-computing.ipynb',\n",
        " 'scipy',\n",
        " 'testing']"
       ]
      }
     ],
     "prompt_number": 26
    },
    {
     "cell_type": "code",
     "collapsed": false,
     "input": [
      "files.s"
     ],
     "language": "python",
     "metadata": {},
     "outputs": [
      {
       "metadata": {},
       "output_type": "pyout",
       "prompt_number": 27,
       "text": [
        "'data_analysis_and_exploration.ipynb double_underscore_demo.py double_underscore_demo.pyc f2py famousauthors.txt ipythonblocks ipython-tutor.ipynb matplotlib numpy phonenums.txt python-introduction.ipynb scientific-computing.ipynb scipy testing'"
       ]
      }
     ],
     "prompt_number": 27
    },
    {
     "cell_type": "code",
     "collapsed": false,
     "input": [
      "files.n"
     ],
     "language": "python",
     "metadata": {},
     "outputs": [
      {
       "metadata": {},
       "output_type": "pyout",
       "prompt_number": 28,
       "text": [
        "'data_analysis_and_exploration.ipynb\\ndouble_underscore_demo.py\\ndouble_underscore_demo.pyc\\nf2py\\nfamousauthors.txt\\nipythonblocks\\nipython-tutor.ipynb\\nmatplotlib\\nnumpy\\nphonenums.txt\\npython-introduction.ipynb\\nscientific-computing.ipynb\\nscipy\\ntesting'"
       ]
      }
     ],
     "prompt_number": 28
    },
    {
     "cell_type": "markdown",
     "metadata": {},
     "source": [
      "Using python variables back in the shell"
     ]
    },
    {
     "cell_type": "code",
     "collapsed": false,
     "input": [
      "for x in v[0].split('.'):\n",
      "    print x\n",
      "    # the touch command is unix specific, just creates empty files\n",
      "    !touch $x"
     ],
     "language": "python",
     "metadata": {},
     "outputs": [
      {
       "output_type": "stream",
       "stream": "stdout",
       "text": [
        "1\n"
       ]
      },
      {
       "output_type": "stream",
       "stream": "stdout",
       "text": [
        "0\n"
       ]
      },
      {
       "output_type": "stream",
       "stream": "stdout",
       "text": [
        "dev\n"
       ]
      }
     ],
     "prompt_number": 29
    },
    {
     "cell_type": "code",
     "collapsed": false,
     "input": [
      "ls"
     ],
     "language": "python",
     "metadata": {},
     "outputs": [
      {
       "output_type": "stream",
       "stream": "stdout",
       "text": [
        "\u001b[0m\u001b[00;38;5;244m0\u001b[0m                                    \u001b[00;38;5;244m\u001b[m\u001b[00;38;5;33mf2py\u001b[0m/                \u001b[00;38;5;244mphonenums.txt\u001b[0m\r\n",
        "\u001b[00;38;5;244m1\u001b[0m                                    \u001b[00;38;5;244mfamousauthors.txt\u001b[0m    \u001b[00;38;5;244mpython-introduction.ipynb\u001b[0m\r\n",
        "\u001b[00;38;5;244mdata_analysis_and_exploration.ipynb\u001b[0m  \u001b[00;38;5;244m\u001b[m\u001b[00;38;5;33mipythonblocks\u001b[0m/       \u001b[00;38;5;244mscientific-computing.ipynb\u001b[0m\r\n",
        "\u001b[00;38;5;244mdev\u001b[0m                                  \u001b[00;38;5;244mipython-tutor.ipynb\u001b[0m  \u001b[00;38;5;244m\u001b[m\u001b[00;38;5;33mscipy\u001b[0m/\r\n",
        "\u001b[00;38;5;244mdouble_underscore_demo.py\u001b[0m            \u001b[00;38;5;244m\u001b[m\u001b[00;38;5;33mmatplotlib\u001b[0m/          \u001b[00;38;5;244m\u001b[m\u001b[00;38;5;33mtesting\u001b[0m/\r\n",
        "\u001b[00;38;5;244mdouble_underscore_demo.pyc\u001b[0m           \u001b[00;38;5;244m\u001b[m\u001b[00;38;5;33mnumpy\u001b[0m/\r\n"
       ]
      }
     ],
     "prompt_number": 30
    },
    {
     "cell_type": "code",
     "collapsed": true,
     "input": [
      "#cleanup the files we just made\n",
      "for x in v[0].split('.'):\n",
      "    !rm $x"
     ],
     "language": "python",
     "metadata": {},
     "outputs": [],
     "prompt_number": 31
    },
    {
     "cell_type": "code",
     "collapsed": false,
     "input": [
      "ls"
     ],
     "language": "python",
     "metadata": {},
     "outputs": [
      {
       "output_type": "stream",
       "stream": "stdout",
       "text": [
        "\u001b[0m\u001b[00;38;5;244mdata_analysis_and_exploration.ipynb\u001b[0m  \u001b[00;38;5;244m\u001b[m\u001b[00;38;5;33mipythonblocks\u001b[0m/       \u001b[00;38;5;244mpython-introduction.ipynb\u001b[0m\r\n",
        "\u001b[00;38;5;244mdouble_underscore_demo.py\u001b[0m            \u001b[00;38;5;244mipython-tutor.ipynb\u001b[0m  \u001b[00;38;5;244mscientific-computing.ipynb\u001b[0m\r\n",
        "\u001b[00;38;5;244mdouble_underscore_demo.pyc\u001b[0m           \u001b[00;38;5;244m\u001b[m\u001b[00;38;5;33mmatplotlib\u001b[0m/          \u001b[00;38;5;244m\u001b[m\u001b[00;38;5;33mscipy\u001b[0m/\r\n",
        "\u001b[00;38;5;244m\u001b[m\u001b[00;38;5;33mf2py\u001b[0m/                                \u001b[00;38;5;244m\u001b[m\u001b[00;38;5;33mnumpy\u001b[0m/               \u001b[00;38;5;244m\u001b[m\u001b[00;38;5;33mtesting\u001b[0m/\r\n",
        "\u001b[00;38;5;244mfamousauthors.txt\u001b[0m                    \u001b[00;38;5;244mphonenums.txt\u001b[0m\r\n"
       ]
      }
     ],
     "prompt_number": 32
    },
    {
     "cell_type": "markdown",
     "metadata": {},
     "source": [
      "Most of the things we've covered can be found in:"
     ]
    },
    {
     "cell_type": "code",
     "collapsed": true,
     "input": [
      "%quickref"
     ],
     "language": "python",
     "metadata": {},
     "outputs": [],
     "prompt_number": 33
    },
    {
     "cell_type": "code",
     "collapsed": false,
     "input": [
      "%history"
     ],
     "language": "python",
     "metadata": {},
     "outputs": [
      {
       "output_type": "stream",
       "stream": "stdout",
       "text": [
        "from IPython.lib.display import YouTubeVideo\n",
        "YouTubeVideo(\"4vuW6tQ0218\")\n",
        "parrot = \"dead\"\n",
        "parrot\n",
        "parrot\n",
        "parrot.upper?\n",
        "parrot.upper()\n",
        "import os.path\n",
        "os.path.join??\n",
        "# ends with \"py\"\n",
        "*py?\n",
        "# has \"py\" in it\n",
        "*py*?\n",
        "peasant = \"I'm not dead, yet\"\n",
        "peasant\n",
        "peasant = Out[4]\n",
        "peasant\n",
        "peasant = peasant + _i\n",
        "peasant\n",
        "%whos\n",
        "%magic\n",
        "%reset -f\n",
        "%whos\n",
        "!ipython --version\n",
        "v = !ipython --version\n",
        "v\n",
        "!ls\n",
        "files = !ls\n",
        "files?\n",
        "files.l\n",
        "files.s\n",
        "files.n\n",
        "for x in v[0].split('.'):\n",
        "    print x\n",
        "    # the touch command is unix specific, just creates empty files\n",
        "    !touch $x\n",
        "ls\n",
        "#cleanup the files we just made\n",
        "for x in v[0].split('.'):\n",
        "    !rm $x\n",
        "ls\n",
        "%quickref\n",
        "%history\n"
       ]
      }
     ],
     "prompt_number": 34
    },
    {
     "cell_type": "code",
     "collapsed": false,
     "input": [
      "!ls"
     ],
     "language": "python",
     "metadata": {},
     "outputs": [
      {
       "output_type": "stream",
       "stream": "stdout",
       "text": [
        "data_analysis_and_exploration.ipynb  ipythonblocks\t  python-introduction.ipynb\r\n",
        "double_underscore_demo.py\t     ipython-tutor.ipynb  scientific-computing.ipynb\r\n",
        "double_underscore_demo.pyc\t     matplotlib\t\t  scipy\r\n",
        "f2py\t\t\t\t     numpy\t\t  testing\r\n",
        "famousauthors.txt\t\t     phonenums.txt\r\n"
       ]
      }
     ],
     "prompt_number": 35
    },
    {
     "cell_type": "markdown",
     "metadata": {},
     "source": [
      "And finally, welcome to python!"
     ]
    },
    {
     "cell_type": "code",
     "collapsed": false,
     "input": [
      "import this"
     ],
     "language": "python",
     "metadata": {},
     "outputs": []
    },
    {
     "cell_type": "code",
     "collapsed": true,
     "input": [
      "!rm posterity.py"
     ],
     "language": "python",
     "metadata": {},
     "outputs": []
    },
    {
     "cell_type": "code",
     "collapsed": true,
     "input": [],
     "language": "python",
     "metadata": {},
     "outputs": []
    }
   ],
   "metadata": {}
  }
 ]
}