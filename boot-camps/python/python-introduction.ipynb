{
 "metadata": {
  "name": "python-introduction"
 },
 "nbformat": 3,
 "nbformat_minor": 0,
 "worksheets": [
  {
   "cells": [
    {
     "cell_type": "markdown",
     "metadata": {},
     "source": [
      "# Introduction to Python Programming\n",
      "\n",
      "__Software Carpentry Bootcamp  at the University of Oklahoma   \n",
      "1-2 July 2013__  \n",
      "\n",
      "Materials by: Greg Wilson,Justin Kitzes, Matt Davis, Paul Ivanov, Mike Jackson and Steve Crouch\n"
     ]
    },
    {
     "cell_type": "markdown",
     "metadata": {},
     "source": [
      "## 1. Variables\n",
      "\n",
      "The most basic component of any programming language are \"things\", also called variables or\n",
      "(in special cases) objects.\n",
      "\n",
      "The most common basic \"things\" in Python are integers, floats, strings, booleans, and\n",
      "some special objects of various types. We'll meet many of these as we go through the lesson."
     ]
    },
    {
     "cell_type": "markdown",
     "metadata": {},
     "source": [
      "__TIP:__ To run the code in a cell quickly, press Ctrl-Enter."
     ]
    },
    {
     "cell_type": "markdown",
     "metadata": {},
     "source": [
      "__TIP:__ To quickly create a new cell below an existing one, type Ctrl-m then b.\n",
      "Other shortcuts for making, deleting, and moving cells are in the menubar on the top of the\n",
      "screen. To hide the menubar, click on the vertical gray divider separating it from this\n",
      "main page."
     ]
    },
    {
     "cell_type": "code",
     "collapsed": false,
     "input": [
      "# A thing\n",
      "2"
     ],
     "language": "python",
     "metadata": {},
     "outputs": [
      {
       "output_type": "pyout",
       "prompt_number": 102,
       "text": [
        "2"
       ]
      }
     ],
     "prompt_number": 102
    },
    {
     "cell_type": "code",
     "collapsed": false,
     "input": [
      "# Use print to show multiple things in the same cell\n",
      "# Note that you can use single or double quotes for strings\n",
      "print 2\n",
      "print 'hello'"
     ],
     "language": "python",
     "metadata": {},
     "outputs": [
      {
       "output_type": "stream",
       "stream": "stdout",
       "text": [
        "2\n",
        "hello\n"
       ]
      }
     ],
     "prompt_number": 103
    },
    {
     "cell_type": "code",
     "collapsed": false,
     "input": [
      "# Things can be stored as variables.\n",
      "# Python allows to reuse the same name for different variable types\n",
      "a = 2 #Integer\n",
      "b = 'hello' #String\n",
      "c = True  # Boolean. This is case sensitive\n",
      "print a, b, c\n",
      "\n",
      "a = 'hello'\n",
      "b = True\n",
      "c = 2\n",
      "print a, b, c\n"
     ],
     "language": "python",
     "metadata": {},
     "outputs": [
      {
       "output_type": "stream",
       "stream": "stdout",
       "text": [
        "2 hello True\n",
        "hello True 2\n"
       ]
      }
     ],
     "prompt_number": 178
    },
    {
     "cell_type": "code",
     "collapsed": false,
     "input": [
      "# The type function tells us the type of thing we have\n",
      "print type(a)\n",
      "print type(b)\n",
      "print type(c)"
     ],
     "language": "python",
     "metadata": {},
     "outputs": [
      {
       "output_type": "stream",
       "stream": "stdout",
       "text": [
        "<type 'str'>\n",
        "<type 'bool'>\n",
        "<type 'int'>\n"
       ]
      }
     ],
     "prompt_number": 105
    },
    {
     "cell_type": "markdown",
     "metadata": {},
     "source": [
      "## 2. Commands that operate on things\n",
      "\n",
      "Just storing data in variables isn't much use to us. Right away, we'd like to start performing\n",
      "operations and manipulations on data and variables.\n",
      "\n",
      "There are three very common means of performing an operation on a thing."
     ]
    },
    {
     "cell_type": "markdown",
     "metadata": {},
     "source": [
      "### 2.1 Use an operator\n",
      "\n",
      "All of the basic math operators work like you think they should for numbers. They can also\n",
      "do some useful operations on other things, like strings. There are also boolean operators that\n",
      "compare quantities and give back a `bool` variable as a result."
     ]
    },
    {
     "cell_type": "code",
     "collapsed": false,
     "input": [
      "# Standard math operators work as expected on numbers\n",
      "a = 2\n",
      "b = 3\n",
      "print a + b\n",
      "print a * b\n",
      "print a ** b"
     ],
     "language": "python",
     "metadata": {},
     "outputs": [
      {
       "output_type": "stream",
       "stream": "stdout",
       "text": [
        "5\n",
        "6\n",
        "8\n"
       ]
      }
     ],
     "prompt_number": 106
    },
    {
     "cell_type": "code",
     "collapsed": false,
     "input": [
      "# Except for division\n",
      "# \n",
      "print 2 / 3 #In this case Python will truncate\n",
      "print 2 / 3. # If we want float division, we need to make one of the numbers float\n",
      "print 2.0 /3"
     ],
     "language": "python",
     "metadata": {},
     "outputs": [
      {
       "output_type": "stream",
       "stream": "stdout",
       "text": [
        "0\n",
        "0.666666666667\n",
        "0.666666666667\n"
       ]
      }
     ],
     "prompt_number": 107
    },
    {
     "cell_type": "markdown",
     "metadata": {},
     "source": [
      "However, in Python 3.x  a/b returns \"a reasonable approximation of the mathematical result of the division (\"true division\")\". And so 1/2 = 0.5"
     ]
    },
    {
     "cell_type": "code",
     "collapsed": false,
     "input": [
      "# Also watch out for exponentiation - you want **, not ^ (which is an XOR bitwise comparison)\n",
      "print 2 ** 3"
     ],
     "language": "python",
     "metadata": {},
     "outputs": [
      {
       "output_type": "stream",
       "stream": "stdout",
       "text": [
        "8\n"
       ]
      }
     ],
     "prompt_number": 108
    },
    {
     "cell_type": "raw",
     "metadata": {},
     "source": [
      "XOR bitwise comparison:\n",
      "\n",
      "1000  # 8 (binary)\n",
      "0011  # 3 (binary)\n",
      "----  # APPLY XOR ('vertically')\n",
      "1011  # result = 11 (binary)"
     ]
    },
    {
     "cell_type": "markdown",
     "metadata": {},
     "source": [
      "The are also operators for strings - and some of them such as `+` and `*` look the same as the math operators and work in a 'similar' way."
     ]
    },
    {
     "cell_type": "code",
     "collapsed": false,
     "input": [
      "print 'hello' + 'world'\n",
      "print 'hello' * 3\n",
      "#print ' hello ' / 3 #What happens here? This doesn't make much sense with strings - it is rather ambigious."
     ],
     "language": "python",
     "metadata": {},
     "outputs": [
      {
       "output_type": "stream",
       "stream": "stdout",
       "text": [
        "helloworld\n",
        "hellohellohello\n"
       ]
      }
     ],
     "prompt_number": 109
    },
    {
     "cell_type": "markdown",
     "metadata": {},
     "source": [
      "Boolean operators compare two things (variables, statements) and return a resuly which is either True or False:"
     ]
    },
    {
     "cell_type": "code",
     "collapsed": false,
     "input": [
      "a = (1 > 3)\n",
      "b = (3 == 3)\n",
      "print a\n",
      "print b\n",
      "print a or b\n",
      "print a and b"
     ],
     "language": "python",
     "metadata": {},
     "outputs": [
      {
       "output_type": "stream",
       "stream": "stdout",
       "text": [
        "False\n",
        "True\n",
        "True\n",
        "False\n"
       ]
      }
     ],
     "prompt_number": 110
    },
    {
     "cell_type": "markdown",
     "metadata": {},
     "source": [
      "### 2.2 Use a function\n",
      "\n",
      "Functions perform a defined set of actions and return a result (which may be empty). These actions can be performed on something that is passed into a fuction as an *argument*.\n",
      "Functions in Python will be very familiar to anyone who has programmed in any language, and work like you\n",
      "would expect. For those of you who have never programmed before, the best way to understand functions is to write Python code. As with many things, practice makes perfect."
     ]
    },
    {
     "cell_type": "code",
     "collapsed": false,
     "input": [
      "# Python comes with a number of built-in very useful functions that operate on variables and data structures.\n",
      "print type(3)\n",
      "print len('hello')\n",
      "print round(3.3)"
     ],
     "language": "python",
     "metadata": {},
     "outputs": [
      {
       "output_type": "stream",
       "stream": "stdout",
       "text": [
        "<type 'int'>\n",
        "5\n",
        "3.0\n"
       ]
      }
     ],
     "prompt_number": 111
    },
    {
     "cell_type": "markdown",
     "metadata": {},
     "source": [
      "To find out what function does in Python type `help(name_of_the_function)`."
     ]
    },
    {
     "cell_type": "code",
     "collapsed": false,
     "input": [
      "help(round)"
     ],
     "language": "python",
     "metadata": {},
     "outputs": [
      {
       "output_type": "stream",
       "stream": "stdout",
       "text": [
        "Help on built-in function round in module __builtin__:\n",
        "\n",
        "round(...)\n",
        "    round(number[, ndigits]) -> floating point number\n",
        "    \n",
        "    Round a number to a given precision in decimal digits (default 0 digits).\n",
        "    This always returns a floating point number.  Precision may be negative.\n",
        "\n"
       ]
      }
     ],
     "prompt_number": 112
    },
    {
     "cell_type": "markdown",
     "metadata": {},
     "source": [
      "__TIP:__ To find out what a function does, in IPython you can type it's name and then a question mark to\n",
      "get a pop up help window. Or, to see what arguments it takes, you can type its name, an open\n",
      "parenthesis, and hit tab."
     ]
    },
    {
     "cell_type": "code",
     "collapsed": false,
     "input": [
      "round?\n",
      "round("
     ],
     "language": "python",
     "metadata": {},
     "outputs": [],
     "prompt_number": 174
    },
    {
     "cell_type": "markdown",
     "metadata": {},
     "source": [
      "__Exercise__ find out more about function `round` and change it so that `round(3.14159)` so that it rounds  to two decimal points."
     ]
    },
    {
     "cell_type": "markdown",
     "metadata": {},
     "source": [
      "### 2.3 Use a method\n",
      "\n",
      "Before we get any farther into the Python language, we have to say a word about \"objects\". We\n",
      "will not be teaching object oriented programming in this workshop, but you will encounter objects\n",
      "throughout Python (in fact, even seemingly simple things like ints and strings are actually\n",
      "objects in Python).\n",
      "\n",
      "In the simplest terms, you can think of an object as a small bundled \"thing\" that contains within\n",
      "itself both data and functions that operate on that data. For example, strings in Python are\n",
      "objects that contain a set of characters and also various functions that operate on the set of\n",
      "characters. When bundled in an object, these functions are called \"methods\".\n",
      "\n",
      "Instead of the \"normal\" `function(arguments)` syntax, methods are called using the\n",
      "syntax `variable.method(arguments)` , or more precisely `object.method(arguments)`."
     ]
    },
    {
     "cell_type": "code",
     "collapsed": false,
     "input": [
      "# A string is actually an object\n",
      "a = 'hello, world'\n",
      "print type(a)"
     ],
     "language": "python",
     "metadata": {},
     "outputs": [
      {
       "output_type": "stream",
       "stream": "stdout",
       "text": [
        "<type 'str'>\n"
       ]
      }
     ],
     "prompt_number": 114
    },
    {
     "cell_type": "markdown",
     "metadata": {},
     "source": [
      "### 2.4 Operations on strings\n",
      "Python comes with several handy built-in methods for strings. They make string manipulation much faster and easier. It can be particularily useful, if you, for example, have to clean up a large text file which actually contains your research data."
     ]
    },
    {
     "cell_type": "code",
     "collapsed": false,
     "input": [
      "#We can check the lenght of the string:\n",
      "a = 'hello world. how are you?'\n",
      "print len(a)"
     ],
     "language": "python",
     "metadata": {},
     "outputs": [
      {
       "output_type": "stream",
       "stream": "stdout",
       "text": [
        "25\n"
       ]
      }
     ],
     "prompt_number": 115
    },
    {
     "cell_type": "code",
     "collapsed": false,
     "input": [
      "# We capitalize the first letter in the string or replace a particular letter with another one.\n",
      "print a.capitalize()  \n",
      "print a.replace('l', 'X') "
     ],
     "language": "python",
     "metadata": {},
     "outputs": [
      {
       "output_type": "stream",
       "stream": "stdout",
       "text": [
        "Hello world. how are you?\n",
        "heXXo worXd. how are you?\n"
       ]
      }
     ],
     "prompt_number": 116
    },
    {
     "cell_type": "markdown",
     "metadata": {},
     "source": [
      "One of very often used operations on strings is `split` "
     ]
    },
    {
     "cell_type": "code",
     "collapsed": false,
     "input": [
      "a = 'Thomas Mann'\n",
      "b = a.split()\n",
      "print b"
     ],
     "language": "python",
     "metadata": {},
     "outputs": [
      {
       "output_type": "stream",
       "stream": "stdout",
       "text": [
        "['Thomas', 'Mann']\n"
       ]
      }
     ],
     "prompt_number": 117
    },
    {
     "cell_type": "code",
     "collapsed": false,
     "input": [
      "a = 'Thomas-Mann'\n",
      "b = a.split('-')\n",
      "print b"
     ],
     "language": "python",
     "metadata": {},
     "outputs": [
      {
       "output_type": "stream",
       "stream": "stdout",
       "text": [
        "['Thomas', 'Mann']\n"
       ]
      }
     ],
     "prompt_number": 118
    },
    {
     "cell_type": "markdown",
     "metadata": {},
     "source": [
      "Another useful operation on string is `strip` which removes all whitespace at the start and end, including spaces, tabs, newlines and carriage returns"
     ]
    },
    {
     "cell_type": "code",
     "collapsed": false,
     "input": [
      "c = '   Oklahoma   '\n",
      "print '--'+c.strip()+'--'"
     ],
     "language": "python",
     "metadata": {},
     "outputs": [
      {
       "output_type": "stream",
       "stream": "stdout",
       "text": [
        "--Oklahoma--\n"
       ]
      }
     ],
     "prompt_number": 119
    },
    {
     "cell_type": "markdown",
     "metadata": {},
     "source": [
      "## 3. Data structures\n",
      "\n",
      "Once the number of variables that you are interested in starts getting large, working with them\n",
      "all individually starts to get unwieldy. To help stay organized, we can use *data structures* which are collections of things. Probably a lot of your work in Python will use one of four types of collections:\n",
      "*lists*, *tuples*, *dictionaries*, and *sets*. We'll look quickly at each of these and what they can do for you."
     ]
    },
    {
     "cell_type": "markdown",
     "metadata": {},
     "source": [
      "### 3.1 Lists\n",
      "\n",
      "Lists are probably the handiest and most flexible data structure. Lists are declared with\n",
      "square brackets []. Individual elements of a list can be selected using the syntax `a[ind]`."
     ]
    },
    {
     "cell_type": "code",
     "collapsed": false,
     "input": [
      "# Lists are created with square bracket syntax\n",
      "a = ['hi', 'hello', 'yo']\n",
      "print a, type(a)"
     ],
     "language": "python",
     "metadata": {},
     "outputs": [
      {
       "output_type": "stream",
       "stream": "stdout",
       "text": [
        "['hi', 'hello', 'yo'] <type 'list'>\n"
       ]
      }
     ],
     "prompt_number": 181
    },
    {
     "cell_type": "code",
     "collapsed": false,
     "input": [
      "# Lists (and all collections) are also indexed with square brackets\n",
      "# NOTE: The first index is zero, not one\n",
      "print a[0]\n",
      "print a[1]"
     ],
     "language": "python",
     "metadata": {},
     "outputs": [
      {
       "output_type": "stream",
       "stream": "stdout",
       "text": [
        "hi\n",
        "hello\n"
       ]
      }
     ],
     "prompt_number": 121
    },
    {
     "cell_type": "markdown",
     "metadata": {},
     "source": [
      "Python provides a mechanism for selecting elements of the lists by *slicing*. Lists can be sliced by putting a colon between indexes. __NOTE__: The first value in slicing is inclusive and the end value is exclusive."
     ]
    },
    {
     "cell_type": "code",
     "collapsed": false,
     "input": [
      "print a\n",
      "print a[0:2]"
     ],
     "language": "python",
     "metadata": {},
     "outputs": [
      {
       "output_type": "stream",
       "stream": "stdout",
       "text": [
        "['hi', 'hello', 'yo']\n",
        "['hi', 'hello']\n"
       ]
      }
     ],
     "prompt_number": 122
    },
    {
     "cell_type": "code",
     "collapsed": false,
     "input": [
      "# You can leave off the start or end if desired\n",
      "print a[:2]\n",
      "print a[2:]\n",
      "print a[:]\n",
      "print a[:-1]"
     ],
     "language": "python",
     "metadata": {},
     "outputs": [
      {
       "output_type": "stream",
       "stream": "stdout",
       "text": [
        "['hi', 'hello']\n",
        "['yo']\n",
        "['hi', 'hello', 'yo']\n",
        "['hi', 'hello']\n"
       ]
      }
     ],
     "prompt_number": 123
    },
    {
     "cell_type": "markdown",
     "metadata": {},
     "source": [
      "__Quiz__  \n",
      "If, b=\u201dLosAngeles\u201d, then which of the following will give us \u2018Los Angeles\u2019 in the output?  \n",
      "A) `b[:3] + \u201c  \u201d + b[3:1000]`   \n",
      "B) `b[1:3] + \u201c  \u201d + b[4:10]`   \n",
      "C) `b[0:0] + b[1:1] + b[2:2] + \u201c  \u201d + b[3:10]`  \n",
      "D) `b[0:3] + b[3:]` "
     ]
    },
    {
     "cell_type": "markdown",
     "metadata": {},
     "source": [
      "Lists come with a number  of built-in methods which allow for easy manupulation:"
     ]
    },
    {
     "cell_type": "code",
     "collapsed": false,
     "input": [
      "a.append('hiya') #Appends the element to the list\n",
      "print a\n",
      "\n",
      "a.append([1,2]) #We can append elements of different type than those which already are in the list\n",
      "print a\n",
      "\n",
      "a.pop()    #Remove the last element from the list (with the index `n-1`).\n",
      "print a"
     ],
     "language": "python",
     "metadata": {},
     "outputs": [
      {
       "output_type": "stream",
       "stream": "stdout",
       "text": [
        "['hi', 'hello', 'yo', 'hiya']\n",
        "['hi', 'hello', 'yo', 'hiya', [1, 2]]\n",
        "['hi', 'hello', 'yo', 'hiya']\n"
       ]
      }
     ],
     "prompt_number": 124
    },
    {
     "cell_type": "markdown",
     "metadata": {},
     "source": [
      "__TIP:__ A 'gotcha' for some new Python users is that variables are just names and in case of many data structures, including lists, actually store pointers to data, not the data itself. This makes the language much more efficient,\n",
      "but can lead to some very hard to trace bugs:"
     ]
    },
    {
     "cell_type": "code",
     "collapsed": false,
     "input": [
      "# Assigning b = a does not make a copy of a, rather b and a now point to the same data\n",
      "b = a\n",
      "print a, b\n",
      "b[0] = 'bye'\n",
      "print a, b\n",
      "b[0] = 'hi'\n",
      "\n",
      "print id(a)\n",
      "print id(b)\n",
      "\n",
      "# To make a copy, use \" list(a) \"\n",
      "b = list(a)\n",
      "print a, b\n",
      "b[0] = 'seeya'\n",
      "print a, b"
     ],
     "language": "python",
     "metadata": {},
     "outputs": [
      {
       "output_type": "stream",
       "stream": "stdout",
       "text": [
        "['hi', 'hello', 'yo'] ['hi', 'hello', 'yo']\n",
        "['bye', 'hello', 'yo'] ['bye', 'hello', 'yo']\n",
        "['hi', 'hello', 'yo'] ['hi', 'hello', 'yo']\n",
        "['hi', 'hello', 'yo'] ['seeya', 'hello', 'yo']\n"
       ]
      }
     ],
     "prompt_number": 184
    },
    {
     "cell_type": "markdown",
     "metadata": {},
     "source": [
      "### 3.2 Tuples\n",
      "\n",
      "Tuples are very similar to lists, with two major exceptions:\n",
      "\n",
      "1. You declare tuples using ( ) instead of [ ]\n",
      "1. Once you make a tuple, you can't change what's in it\n",
      "\n",
      "You'll see tuples come up throughout the Python language, and over time you'll develop a feel for when\n",
      "to use them. In general, they're often used instead of lists to group items when the position in the\n",
      "collection is critical to understanding the item's meaning, such as (x,y), and when you want to make\n",
      "sure that you don't accidentally modify any of the items later."
     ]
    },
    {
     "cell_type": "code",
     "collapsed": false,
     "input": [
      "mumford_and_sons = ['hey', 22]\n",
      "decemberists = ( 'hey', 22 )"
     ],
     "language": "python",
     "metadata": {},
     "outputs": [],
     "prompt_number": 126
    },
    {
     "cell_type": "code",
     "collapsed": false,
     "input": [
      "mumford_and_sons[0] = 'bye'\n",
      "decemberists[0] = 'bye'"
     ],
     "language": "python",
     "metadata": {},
     "outputs": [
      {
       "ename": "TypeError",
       "evalue": "'tuple' object does not support item assignment",
       "output_type": "pyerr",
       "traceback": [
        "\u001b[0;31m---------------------------------------------------------------------------\u001b[0m\n\u001b[0;31mTypeError\u001b[0m                                 Traceback (most recent call last)",
        "\u001b[0;32m<ipython-input-127-fe3ed04a4d7e>\u001b[0m in \u001b[0;36m<module>\u001b[0;34m()\u001b[0m\n\u001b[1;32m      1\u001b[0m \u001b[0mmumford_and_sons\u001b[0m\u001b[0;34m[\u001b[0m\u001b[0;36m0\u001b[0m\u001b[0;34m]\u001b[0m \u001b[0;34m=\u001b[0m \u001b[0;34m'bye'\u001b[0m\u001b[0;34m\u001b[0m\u001b[0m\n\u001b[0;32m----> 2\u001b[0;31m \u001b[0mdecemberists\u001b[0m\u001b[0;34m[\u001b[0m\u001b[0;36m0\u001b[0m\u001b[0;34m]\u001b[0m \u001b[0;34m=\u001b[0m \u001b[0;34m'bye'\u001b[0m\u001b[0;34m\u001b[0m\u001b[0m\n\u001b[0m",
        "\u001b[0;31mTypeError\u001b[0m: 'tuple' object does not support item assignment"
       ]
      }
     ],
     "prompt_number": 127
    },
    {
     "cell_type": "code",
     "collapsed": false,
     "input": [
      "mumford_and_sons"
     ],
     "language": "python",
     "metadata": {},
     "outputs": [
      {
       "output_type": "pyout",
       "prompt_number": 128,
       "text": [
        "['bye', 22]"
       ]
      }
     ],
     "prompt_number": 128
    },
    {
     "cell_type": "code",
     "collapsed": false,
     "input": [
      "decemberists[0]"
     ],
     "language": "python",
     "metadata": {},
     "outputs": [
      {
       "output_type": "pyout",
       "prompt_number": 129,
       "text": [
        "'hey'"
       ]
      }
     ],
     "prompt_number": 129
    },
    {
     "cell_type": "markdown",
     "metadata": {},
     "source": [
      "### 3.3 Dictionaries\n",
      "\n",
      "Dictionaries are the collection to use when you want to store and retrieve things by their names\n",
      "(or some other kind of key) instead of by their position in the collection. A good example is a set\n",
      "of model parameters, each of which has a name and a value. Dictionaries are declared using {} or using dict()."
     ]
    },
    {
     "cell_type": "code",
     "collapsed": false,
     "input": [
      "empty_dict = {}"
     ],
     "language": "python",
     "metadata": {},
     "outputs": [],
     "prompt_number": 130
    },
    {
     "cell_type": "code",
     "collapsed": false,
     "input": [
      "empty_dict"
     ],
     "language": "python",
     "metadata": {},
     "outputs": [
      {
       "output_type": "pyout",
       "prompt_number": 131,
       "text": [
        "{}"
       ]
      }
     ],
     "prompt_number": 131
    },
    {
     "cell_type": "markdown",
     "metadata": {},
     "source": [
      "In order to add an element to the dictionary, we need to provide its key and value:"
     ]
    },
    {
     "cell_type": "code",
     "collapsed": false,
     "input": [
      "empty_dict['decemberists'] = 'cool band'"
     ],
     "language": "python",
     "metadata": {},
     "outputs": [],
     "prompt_number": 132
    },
    {
     "cell_type": "code",
     "collapsed": false,
     "input": [
      "empty_dict"
     ],
     "language": "python",
     "metadata": {},
     "outputs": [
      {
       "output_type": "pyout",
       "prompt_number": 133,
       "text": [
        "{'decemberists': 'cool band'}"
       ]
      }
     ],
     "prompt_number": 133
    },
    {
     "cell_type": "markdown",
     "metadata": {},
     "source": [
      "Similarily to what we have seen before, Python allows to change the values in the dictionary to different types:"
     ]
    },
    {
     "cell_type": "code",
     "collapsed": false,
     "input": [
      "empty_dict['decemberists'] = 42"
     ],
     "language": "python",
     "metadata": {},
     "outputs": [],
     "prompt_number": 134
    },
    {
     "cell_type": "code",
     "collapsed": false,
     "input": [
      "empty_dict"
     ],
     "language": "python",
     "metadata": {},
     "outputs": [
      {
       "output_type": "pyout",
       "prompt_number": 135,
       "text": [
        "{'decemberists': 42}"
       ]
      }
     ],
     "prompt_number": 135
    },
    {
     "cell_type": "markdown",
     "metadata": {},
     "source": [
      "Let's have a look at a different example: "
     ]
    },
    {
     "cell_type": "code",
     "collapsed": false,
     "input": [
      "# Make a dictionary of model parameters\n",
      "params = {'n0': 10, 'r': 0.5}\n",
      "print params\n",
      "print params['r'] #To print the value for key `r` - if that was a list, we'd need to know the index of this element."
     ],
     "language": "python",
     "metadata": {},
     "outputs": [
      {
       "output_type": "stream",
       "stream": "stdout",
       "text": [
        "{'n0': 10, 'r': 0.5}\n",
        "0.5\n"
       ]
      }
     ],
     "prompt_number": 136
    },
    {
     "cell_type": "code",
     "collapsed": false,
     "input": [
      "params['K'] = 200\n",
      "print params"
     ],
     "language": "python",
     "metadata": {},
     "outputs": [
      {
       "output_type": "stream",
       "stream": "stdout",
       "text": [
        "{'n0': 10, 'K': 200, 'r': 0.5}\n"
       ]
      }
     ],
     "prompt_number": 137
    },
    {
     "cell_type": "code",
     "collapsed": true,
     "input": [
      "params.keys()  #To print all keys from the dictionary"
     ],
     "language": "python",
     "metadata": {},
     "outputs": [
      {
       "output_type": "pyout",
       "prompt_number": 138,
       "text": [
        "['n0', 'K', 'r']"
       ]
      }
     ],
     "prompt_number": 138
    },
    {
     "cell_type": "code",
     "collapsed": false,
     "input": [
      "params.values() #To print all values from the dictionary:"
     ],
     "language": "python",
     "metadata": {},
     "outputs": [
      {
       "output_type": "pyout",
       "prompt_number": 139,
       "text": [
        "[10, 200, 0.5]"
       ]
      }
     ],
     "prompt_number": 139
    },
    {
     "cell_type": "markdown",
     "metadata": {},
     "source": [
      "__Quiz__   \n",
      "If `d1 = {'Tom': {'degree': 'PhD', 'year':2}, 'Kate':{'degree': 'MSc', 'year':1}}` , how would we get the following outputs from d1: `PhD` and `1` ?"
     ]
    },
    {
     "cell_type": "markdown",
     "metadata": {},
     "source": [
      "### 3.4 Sets\n",
      "A Python set type is similar to the idea of a mathematical set: it is unordered collection of unique things. \n",
      "    Creating a set using a list:"
     ]
    },
    {
     "cell_type": "code",
     "collapsed": false,
     "input": [
      "fruit = set([\"apple\", \"banana\", \"pear\", \"banana\"])\n",
      "fruit"
     ],
     "language": "python",
     "metadata": {},
     "outputs": [
      {
       "output_type": "pyout",
       "prompt_number": 140,
       "text": [
        "{'pear', 'apple', 'banana'}"
       ]
      }
     ],
     "prompt_number": 140
    },
    {
     "cell_type": "markdown",
     "metadata": {},
     "source": [
      "Since sets contain only unique items, there's only one banana in the fruit set. You can do intersections, unions etc. just like in maths. "
     ]
    },
    {
     "cell_type": "code",
     "collapsed": false,
     "input": [
      "firstBowl = set([\"apple\", \"banana\", \"pear\", \"banana\"])\n",
      "secondBowl = set([\"peach\", \"orange\", \"watermelon\", \"apple\"])\n",
      "\n",
      "set.intersection(firstBowl, secondBowl)\n"
     ],
     "language": "python",
     "metadata": {},
     "outputs": [
      {
       "output_type": "pyout",
       "prompt_number": 141,
       "text": [
        "{'apple'}"
       ]
      }
     ],
     "prompt_number": 141
    },
    {
     "cell_type": "code",
     "collapsed": false,
     "input": [
      "set.union(firstBowl, secondBowl)"
     ],
     "language": "python",
     "metadata": {},
     "outputs": [
      {
       "output_type": "pyout",
       "prompt_number": 142,
       "text": [
        "{'watermelon', 'apple', 'peach', 'orange', 'pear', 'banana'}"
       ]
      }
     ],
     "prompt_number": 142
    },
    {
     "cell_type": "markdown",
     "metadata": {},
     "source": [
      "As we have seen, Python has a lot of useful built-in methods for different data structures and variable types. To list all methods for a given object (for example, a data structure such as a set) use `dir(object)`:"
     ]
    },
    {
     "cell_type": "code",
     "collapsed": false,
     "input": [
      "dir(set)"
     ],
     "language": "python",
     "metadata": {},
     "outputs": [],
     "prompt_number": 174
    },
    {
     "cell_type": "markdown",
     "metadata": {},
     "source": [
      "We can do the same for strings:"
     ]
    },
    {
     "cell_type": "code",
     "collapsed": false,
     "input": [
      "dir(str)"
     ],
     "language": "python",
     "metadata": {},
     "outputs": [],
     "prompt_number": 174
    },
    {
     "cell_type": "markdown",
     "metadata": {},
     "source": [
      "## 5. Conditionals\n",
      "\n",
      "Often we want to check if a condition is True and take one action if it is, and another action if the\n",
      "condition is False. We can achieve this in Python with an `if` statement.\n",
      "\n",
      "__TIP:__ You can use any expression that returns a boolean value (True or False) in an if statement.\n",
      "Common boolean operators are ==, !=, <, <=, >, >=. You can also use `is` and `is not` if you want to\n",
      "check if two variables are identical in the sense that they are stored in the same location in memory."
     ]
    },
    {
     "cell_type": "code",
     "collapsed": false,
     "input": [
      "# A simple if statement\n",
      "x = -300\n",
      "if x > 0:\n",
      "    print 'x is positive'\n",
      "elif x < 0:\n",
      "    print 'x is negative'\n",
      "else:\n",
      "    print 'x is zero'"
     ],
     "language": "python",
     "metadata": {},
     "outputs": [
      {
       "output_type": "stream",
       "stream": "stdout",
       "text": [
        "x is negative\n"
       ]
      }
     ],
     "prompt_number": 145
    },
    {
     "cell_type": "code",
     "collapsed": true,
     "input": [
      "# If statements can rely on boolean variables\n",
      "x = -1\n",
      "test = (x > 0)\n",
      "print test\n",
      "if test:\n",
      "    print 'Test was true'"
     ],
     "language": "python",
     "metadata": {},
     "outputs": [
      {
       "output_type": "stream",
       "stream": "stdout",
       "text": [
        "False\n"
       ]
      }
     ],
     "prompt_number": 146
    },
    {
     "cell_type": "markdown",
     "metadata": {},
     "source": [
      "__Note__  To test if something is true or not we can use `in` and `not in`:"
     ]
    },
    {
     "cell_type": "code",
     "collapsed": false,
     "input": [
      "beatle = \"John\"\n",
      "beatles = [\"George\", \"Ringo\", \"John\", \"Paul\" ]\n",
      "print beatle in beatles\n",
      "print \"Katy\" not in beatles"
     ],
     "language": "python",
     "metadata": {},
     "outputs": [
      {
       "output_type": "stream",
       "stream": "stdout",
       "text": [
        "True\n",
        "True\n"
       ]
      }
     ],
     "prompt_number": 147
    },
    {
     "cell_type": "markdown",
     "metadata": {},
     "source": [
      "## 4. Loops\n",
      "\n",
      "So far, everything that we've done could, in principle, be done by hand calculation. In this section\n",
      "and the next, we really start to take advantage of the power of programming languages to do things\n",
      "for us automatically.\n",
      "\n",
      "We start here with ways to repeat yourself. The two most common ways of doing this are known as for\n",
      "loops and while loops. For loops in Python are useful when you want to cycle over all of the items\n",
      "in a collection (such as all of the elements of an array), and while loops are useful when you want to\n",
      "cycle for an indefinite amount of time until some condition is met.\n",
      "\n",
      "The basic examples below will work for looping over lists, tuples, and arrays. Looping over dictionaries\n",
      "is a bit different, since there is a key and a value for each item in a dictionary."
     ]
    },
    {
     "cell_type": "markdown",
     "metadata": {},
     "source": [
      "### 4.1 `for` loops"
     ]
    },
    {
     "cell_type": "code",
     "collapsed": false,
     "input": [
      "# A basic for loop:\n",
      "wordlist = ['hi', 'hello', 'bye']\n",
      "for word in wordlist:\n",
      "    print word + '!'\n",
      "print wordlist"
     ],
     "language": "python",
     "metadata": {},
     "outputs": [
      {
       "output_type": "stream",
       "stream": "stdout",
       "text": [
        "hi!\n",
        "hello!\n",
        "bye!\n",
        "['hi', 'hello', 'bye']\n"
       ]
      }
     ],
     "prompt_number": 148
    },
    {
     "cell_type": "markdown",
     "metadata": {},
     "source": [
      "'Range' creates a list of arithmetic progressions which can be very useful in 'for' loops:"
     ]
    },
    {
     "cell_type": "code",
     "collapsed": false,
     "input": [
      "print range(10)\n",
      "print range(1, 11)\n",
      "print range(0, 30, 5)\n",
      "print range(0, 10, 3)\n",
      "print range(0, -10, -1)\n",
      "print range(0)\n"
     ],
     "language": "python",
     "metadata": {},
     "outputs": [
      {
       "output_type": "stream",
       "stream": "stdout",
       "text": [
        "[0, 1, 2, 3, 4, 5, 6, 7, 8, 9]\n",
        "[1, 2, 3, 4, 5, 6, 7, 8, 9, 10]\n",
        "[0, 5, 10, 15, 20, 25]\n",
        "[0, 3, 6, 9]\n",
        "[0, -1, -2, -3, -4, -5, -6, -7, -8, -9]\n",
        "[]\n"
       ]
      }
     ],
     "prompt_number": 149
    },
    {
     "cell_type": "markdown",
     "metadata": {},
     "source": [
      "And this is how we can use `range` in a for loop:"
     ]
    },
    {
     "cell_type": "code",
     "collapsed": false,
     "input": [
      "a = []\n",
      "for i in range(10):\n",
      "    a.append(i)\n",
      "print a    "
     ],
     "language": "python",
     "metadata": {},
     "outputs": [
      {
       "output_type": "stream",
       "stream": "stdout",
       "text": [
        "[0, 1, 2, 3, 4, 5, 6, 7, 8, 9]\n"
       ]
      }
     ],
     "prompt_number": 150
    },
    {
     "cell_type": "markdown",
     "metadata": {},
     "source": [
      "In Python we can loop over the elements of a collection (list) and not only over their indexes:"
     ]
    },
    {
     "cell_type": "code",
     "collapsed": false,
     "input": [
      "# Sum all of the values in a collection using a for loop\n",
      "numlist = [1, 4, 77, 3]\n",
      "\n",
      "total = 0\n",
      "for num in numlist:\n",
      "    total = total + num\n",
      "    \n",
      "print \"Sum is\", total, \"and the last added number was \", num"
     ],
     "language": "python",
     "metadata": {},
     "outputs": [
      {
       "output_type": "stream",
       "stream": "stdout",
       "text": [
        "Sum is 85 and the last added number was  3\n"
       ]
      }
     ],
     "prompt_number": 151
    },
    {
     "cell_type": "code",
     "collapsed": false,
     "input": [
      "# Often we want to loop over the indexes of a collection, not just the items\n",
      "print wordlist\n",
      "\n",
      "wordrange = range(len(wordlist)) #We're using 'range' which creates a list of arithmetic progressions, if you remember\n",
      "print wordrange\n",
      "\n",
      "dict= {}\n",
      "for i in wordrange:\n",
      "    print i, wordlist[i]   "
     ],
     "language": "python",
     "metadata": {},
     "outputs": [
      {
       "output_type": "stream",
       "stream": "stdout",
       "text": [
        "['hi', 'hello', 'bye']\n",
        "[0, 1, 2]\n",
        "0 hi\n",
        "1 hello\n",
        "2 bye\n"
       ]
      }
     ],
     "prompt_number": 152
    },
    {
     "cell_type": "markdown",
     "metadata": {},
     "source": [
      "__Exercise__   \n",
      "Modify the above loop to create a dictionary in which the key is the index of the word in the list and the value is the word itself."
     ]
    },
    {
     "cell_type": "markdown",
     "metadata": {},
     "source": [
      "There is another useful method to iterate over a sequence of items: 'enumerate' which returns a *tuple* containing a count (from start which defaults to 0) and the values obtained from iterating over sequence:"
     ]
    },
    {
     "cell_type": "code",
     "collapsed": false,
     "input": [
      "list(enumerate(wordlist))\n",
      "dict={}\n",
      "wordrange = range(len(wordlist))\n",
      "for i in wordange:\n",
      "    dict[i]=wordlist[i]\n",
      "print dict"
     ],
     "language": "python",
     "metadata": {},
     "outputs": [
      {
       "output_type": "pyout",
       "prompt_number": 153,
       "text": [
        "[(0, 'hi'), (1, 'hello'), (2, 'bye')]"
       ]
      }
     ],
     "prompt_number": 153
    },
    {
     "cell_type": "code",
     "collapsed": false,
     "input": [
      "list(enumerate(wordlist,1))"
     ],
     "language": "python",
     "metadata": {},
     "outputs": [
      {
       "output_type": "pyout",
       "prompt_number": 154,
       "text": [
        "[(1, 'hi'), (2, 'hello'), (3, 'bye')]"
       ]
      }
     ],
     "prompt_number": 154
    },
    {
     "cell_type": "code",
     "collapsed": false,
     "input": [
      "for i, word in enumerate(wordlist):\n",
      "    print i, word"
     ],
     "language": "python",
     "metadata": {},
     "outputs": [
      {
       "output_type": "stream",
       "stream": "stdout",
       "text": [
        "0 hi\n",
        "1 hello\n",
        "2 bye\n"
       ]
      }
     ],
     "prompt_number": 155
    },
    {
     "cell_type": "markdown",
     "metadata": {},
     "source": [
      "### 4.2 `while` loops    \n",
      "While loops are useful when you don't know how many steps you will need, and want to stop once a certain condition is met."
     ]
    },
    {
     "cell_type": "code",
     "collapsed": false,
     "input": [
      "step = 0\n",
      "prod = 1\n",
      "while prod < 100:\n",
      "    step = step + 1\n",
      "    prod = prod * 2\n",
      "    print step, prod\n",
      "    \n",
      "print 'Reached a product of', prod, 'at step number', step"
     ],
     "language": "python",
     "metadata": {},
     "outputs": [
      {
       "output_type": "stream",
       "stream": "stdout",
       "text": [
        "1 2\n",
        "2 4\n",
        "3 8\n",
        "4 16\n",
        "5 32\n",
        "6 64\n",
        "7 128\n",
        "Reached a product of 128 at step number 7\n"
       ]
      }
     ],
     "prompt_number": 156
    },
    {
     "cell_type": "markdown",
     "metadata": {},
     "source": [
      "Let's check our condition, just in case:"
     ]
    },
    {
     "cell_type": "code",
     "collapsed": false,
     "input": [
      "prod < 100"
     ],
     "language": "python",
     "metadata": {},
     "outputs": [
      {
       "output_type": "pyout",
       "prompt_number": 157,
       "text": [
        "False"
       ]
      }
     ],
     "prompt_number": 157
    },
    {
     "cell_type": "markdown",
     "metadata": {},
     "source": [
      "Nested loops."
     ]
    },
    {
     "cell_type": "code",
     "collapsed": false,
     "input": [
      "weapons = [\"surprise\", \"fear\", \"ruthless efficiency\", \"an almost fanatical devotion\"]\n",
      "tries = 0\n",
      "script = \"\" #the script is initially empty\n",
      "\n",
      "while tries < len(weapons):\n",
      "    i = 0\n",
      "    while i < tries:\n",
      "        script += weapons[i].capitalize()\n",
      "        script += \" and \"\n",
      "        i +=1  \n",
      "    if i == 0: #capitalize the first element\n",
      "        script = weapons[i].capitalize()\n",
      "    script += weapons[tries]\n",
      "    script += \". \"\n",
      "\n",
      "    if tries == len(weapons) -1: #once we finished looping through the weapons list\n",
      "        script += \" And nice red uniforms.\" \n",
      "        \n",
      "    tries+=1\n",
      "    \n",
      "print script"
     ],
     "language": "python",
     "metadata": {},
     "outputs": [
      {
       "output_type": "stream",
       "stream": "stdout",
       "text": [
        "Surprisesurprise. Surprise and fear. Surprise and Fear and ruthless efficiency. Surprise and Fear and Ruthless efficiency and an almost fanatical devotion.  And nice red uniforms.\n"
       ]
      }
     ],
     "prompt_number": 4
    },
    {
     "cell_type": "markdown",
     "metadata": {},
     "source": [
      "__Exercise__   \n",
      "Modify the above loop so that the output is:  \n",
      "    \n",
      "`Surprise. Surprise and fear. Surprise and fear and ruthless efficiency. Surprise and fear and ruthless efficiency and an almost fanatical devotion. And nice red uniforms.`   \n",
      "    \n",
      "(the first letter starting the sentence is capitalized)"
     ]
    },
    {
     "cell_type": "markdown",
     "metadata": {},
     "source": [
      "What about a nested loops around a list of lists? "
     ]
    },
    {
     "cell_type": "code",
     "collapsed": false,
     "input": [
      "italy = [\"Rome\", \"Pisa\", \"Florence\", \"Venice\", \"Trieste\"]\n",
      "argentina = [\"Mendoza\", \"Buenos Aires\", \"Patagonia\"]\n",
      "india = [\"Ahmedabad\",\"Kolkata\", \"Chennai\", \"Jaipur\", \"Surat\"]\n",
      "us = [\"Chicago\", \"Oklahoma\", \"New York\", \"San Fran\"]\n",
      "nations = [italy, argentina, india, us]\n",
      "nationnames = [\"italy\",\"argentina\", \"india\", \"us\"]\n",
      "for nation in nations :\n",
      "    print nationnames[nations.index(nation)] + \": \"\n",
      "    for city in nation :\n",
      "        print \"  \" + city "
     ],
     "language": "python",
     "metadata": {},
     "outputs": [
      {
       "output_type": "stream",
       "stream": "stdout",
       "text": [
        "italy: \n",
        "  Rome\n",
        "  Pisa\n",
        "  Florence\n",
        "  Venice\n",
        "  Trieste\n",
        "argentina: \n",
        "  Mendoza\n",
        "  Buenos Aires\n",
        "  Patagonia\n",
        "india: \n",
        "  Ahmedabad\n",
        "  Kolkata\n",
        "  Chennai\n",
        "  Jaipur\n",
        "  Surat\n",
        "us: \n",
        "  Chicago\n",
        "  Oklahoma\n",
        "  New York\n",
        "  San Fran\n"
       ]
      }
     ],
     "prompt_number": 159
    },
    {
     "cell_type": "markdown",
     "metadata": {},
     "source": [
      "Of course, this information is better stored in a dictionary, isn't it? The data makes more sense if the keys were the nation names and the values were lists of cities. Importantly, python has given us a tool specifically for dictionary looping. The syntax for looping through the keys and values of a dictionary is :   \n",
      "\n",
      "`for key, value in dictionary.iteritems():`   \n",
      "    \n",
      "Importantly, you don't have to use the words key and value. That's just what will fill those variables. Here, we rewrite the previous loop using this clever syntax."
     ]
    },
    {
     "cell_type": "code",
     "collapsed": false,
     "input": [
      "italy = [\"Rome\", \"Pisa\", \"Florence\", \"Venice\", \"Trieste\"]\n",
      "argentina = [\"Mendoza\", \"Buenos Aires\", \"Patagonia\"]\n",
      "india = [\"Kolkata\", \"Chennai\", \"Jaipur\", \"Johdpur\"]\n",
      "us = [\"Chicago\", \"Austin\", \"Boston\", \"New York\", \"Denver\"]\n",
      "countries ={\"Italy\":italy, \"Argentina\":argentina, \"India\":india, \"US\":us}\n",
      "\n",
      "for country, cities in countries.iteritems():\n",
      "    print country + \" : \"\n",
      "    for city in cities:\n",
      "        print\" \"+city"
     ],
     "language": "python",
     "metadata": {},
     "outputs": [
      {
       "output_type": "stream",
       "stream": "stdout",
       "text": [
        "India : \n",
        " Kolkata\n",
        " Chennai\n",
        " Jaipur\n",
        " Johdpur\n",
        "Argentina : \n",
        " Mendoza\n",
        " Buenos Aires\n",
        " Patagonia\n",
        "Italy : \n",
        " Rome\n",
        " Pisa\n",
        " Florence\n",
        " Venice\n",
        " Trieste\n",
        "US : \n",
        " Chicago\n",
        " Austin\n",
        " Boston\n",
        " New York\n",
        " Denver\n"
       ]
      }
     ],
     "prompt_number": 160
    },
    {
     "cell_type": "markdown",
     "metadata": {},
     "source": [
      "### 4.2 Break continue and else\n",
      "A break statement cuts off a loop from within an inner loop. It helps avoid infinite loops by cutting off loops when they're clearly going nowhere."
     ]
    },
    {
     "cell_type": "code",
     "collapsed": false,
     "input": [
      "reasonable =100\n",
      "for n in range(1,2000):\n",
      "    if n % reasonable == 0:    #\n",
      "#    if n == reasonable:\n",
      "#        break\n",
      "        print n"
     ],
     "language": "python",
     "metadata": {},
     "outputs": [
      {
       "output_type": "stream",
       "stream": "stdout",
       "text": [
        "100\n",
        "200\n",
        "300\n",
        "400\n",
        "500\n",
        "600\n",
        "700\n",
        "800\n",
        "900\n",
        "1000\n",
        "1100\n",
        "1200\n",
        "1300\n",
        "1400\n",
        "1500\n",
        "1600\n",
        "1700\n",
        "1800\n",
        "1900\n"
       ]
      }
     ],
     "prompt_number": 5
    },
    {
     "cell_type": "markdown",
     "metadata": {},
     "source": [
      "Something you might want to do instead of breaking is to continue to the next iteration of a loop, giving up on the current one.."
     ]
    },
    {
     "cell_type": "code",
     "collapsed": false,
     "input": [
      "reasonable = 10\n",
      "for n in range(1,2000):\n",
      "    if n == reasonable :\n",
      "        continue\n",
      "    print n"
     ],
     "language": "python",
     "metadata": {},
     "outputs": [],
     "prompt_number": 172
    },
    {
     "cell_type": "markdown",
     "metadata": {},
     "source": [
      "__Exercise__   \n",
      "Modify the above loop so that it prints out only numbers divisible by 100."
     ]
    },
    {
     "cell_type": "markdown",
     "metadata": {},
     "source": [
      "## 5. Reading from files\n",
      "\n",
      "To run this example, you'll need to locate a short file containing phone numbers (phonenums.txt). The phone numbers are in the format ####-###-###, one per line. "
     ]
    },
    {
     "cell_type": "code",
     "collapsed": false,
     "input": [
      "f = open(\"phonenums.txt\")\n",
      "#dict = {}\n",
      "areacodes = {}\n",
      "for line in f:\n",
      "#    j = line.strip()\n",
      "#    print j\n",
      "#    i = 0\n",
      "#    for key in dict:\n",
      "#        if key == line.strip()\n",
      "#            dict[line.strip()] = i\n",
      "#        i = i + 1\n",
      "    ac = line.split('-')[0]\n",
      "    if not ac in areacodes:\n",
      "        areacodes[ac] = 1\n",
      "    else:\n",
      "        areacodes[ac] += 1\n",
      "    print line.strip()\n",
      "print areacodes\n",
      "#print dict"
     ],
     "language": "python",
     "metadata": {},
     "outputs": [
      {
       "output_type": "stream",
       "stream": "stdout",
       "text": [
        "1209-650-7263\n",
        "1603-018-7265\n",
        "1209-777-2651\n",
        "1273-098-7394\n",
        "1573-154-1476\n",
        "1920-764-0081\n",
        "1603-635-9837\n",
        "1224-007-0909\n",
        "1920-563-1007\n",
        "1792-297-0837\n",
        "1792-021-1098\n",
        "1603-643-5472\n",
        "1792-146-9233\n",
        "1362-635-0672\n",
        "1920-546-8734\n",
        "{'1224': 1, '1209': 2, '1792': 3, '1603': 3, '1273': 1, '1920': 3, '1362': 1, '1573': 1}\n"
       ]
      }
     ],
     "prompt_number": 18
    },
    {
     "cell_type": "markdown",
     "metadata": {},
     "source": [
      "___Exercise___ : \n",
      "    Write a Python script which creates a dictionary where the area code is the key and the number of times it occurs is the value."
     ]
    },
    {
     "cell_type": "markdown",
     "metadata": {},
     "source": [
      "## 7. Creating chunks with functions and modules\n",
      "\n",
      "One way to write a program is to simply string together commands, like the ones described above, in a long\n",
      "file, and then to run that file to generate your results. This may work, but it can be cognitively difficult\n",
      "to follow the logic of programs written in this style. Also, it does not allow you to reuse your code\n",
      "easily - for example, what if we wanted to run our logistic growth model for several different choices of\n",
      "initial parameters?  \n",
      "The most important ways to \"chunk\" code into more manageable pieces is to create functions and then\n",
      "to gather these functions into modules, and eventually packages. Below we will discuss how to create\n",
      "functions and modules. \n"
     ]
    },
    {
     "cell_type": "markdown",
     "metadata": {},
     "source": [
      "### 7.1 Creating functions\n"
     ]
    },
    {
     "cell_type": "code",
     "collapsed": false,
     "input": [
      "# We've been using functions all day - for example `round`\n",
      "x = 3.333333\n",
      "print round(x, 2)"
     ],
     "language": "python",
     "metadata": {},
     "outputs": [
      {
       "output_type": "stream",
       "stream": "stdout",
       "text": [
        "3.33\n"
       ]
      }
     ],
     "prompt_number": 164
    },
    {
     "cell_type": "code",
     "collapsed": true,
     "input": [
      "# It's very easy to write your own functions\n",
      "def multiply(x, y):\n",
      "    return x*y"
     ],
     "language": "python",
     "metadata": {},
     "outputs": [],
     "prompt_number": 165
    },
    {
     "cell_type": "code",
     "collapsed": false,
     "input": [
      "# Once a function is \"run\" and saved in memory, it's available just like any other function\n",
      "print type(multiply)\n",
      "multiply(4, 3)"
     ],
     "language": "python",
     "metadata": {},
     "outputs": [
      {
       "output_type": "stream",
       "stream": "stdout",
       "text": [
        "<type 'function'>\n"
       ]
      },
      {
       "output_type": "pyout",
       "prompt_number": 166,
       "text": [
        "12"
       ]
      }
     ],
     "prompt_number": 166
    },
    {
     "cell_type": "markdown",
     "metadata": {},
     "source": [
      "### 7.2 Making modules\n",
      "\n",
      "We can make our functions more easily reusable by placing them into modules that we can import, just\n",
      "like we will be doing with `numpy` soon. It's pretty simple to do this.\n",
      "\n",
      "Let's just stay in the notebook, and write the contents of that file using the command `%%file` magic - which will create the file with a given name in our current directory."
     ]
    },
    {
     "cell_type": "code",
     "collapsed": false,
     "input": [
      "%%file cool_module.py\n",
      "# copy paste the definition of the function say_hello here below.\n",
      "def say_hello(time, place='Oklahoma'):\n",
      "    return 'Good ' + time + ', ' + place"
     ],
     "language": "python",
     "metadata": {},
     "outputs": [
      {
       "output_type": "stream",
       "stream": "stdout",
       "text": [
        "Writing cool_module.py\n"
       ]
      }
     ],
     "prompt_number": 167
    },
    {
     "cell_type": "code",
     "collapsed": false,
     "input": [
      "import cool_module\n",
      "cool_module.say_hello(' morning, everyone')"
     ],
     "language": "python",
     "metadata": {},
     "outputs": [
      {
       "output_type": "pyout",
       "prompt_number": 168,
       "text": [
        "'Good  morning, everyone, Oklahoma'"
       ]
      }
     ],
     "prompt_number": 168
    },
    {
     "cell_type": "code",
     "collapsed": false,
     "input": [
      "import cool_module as c"
     ],
     "language": "python",
     "metadata": {},
     "outputs": [],
     "prompt_number": 169
    },
    {
     "cell_type": "code",
     "collapsed": false,
     "input": [
      "c.say_hello('slow morning')"
     ],
     "language": "python",
     "metadata": {},
     "outputs": [
      {
       "output_type": "pyout",
       "prompt_number": 170,
       "text": [
        "'Good slow morning, Oklahoma'"
       ]
      }
     ],
     "prompt_number": 170
    },
    {
     "cell_type": "code",
     "collapsed": false,
     "input": [
      "from cool_module import say_hello\n",
      "say_hello(' day, all everyone at OU')"
     ],
     "language": "python",
     "metadata": {},
     "outputs": [
      {
       "output_type": "pyout",
       "prompt_number": 171,
       "text": [
        "'Good  day, all everyone at OU, Oklahoma'"
       ]
      }
     ],
     "prompt_number": 171
    },
    {
     "cell_type": "code",
     "collapsed": false,
     "input": [
      "import cool_module\n",
      "cool_module.say_hello('evening',  'London')"
     ],
     "language": "python",
     "metadata": {},
     "outputs": [
      {
       "output_type": "pyout",
       "prompt_number": 172,
       "text": [
        "'Good evening, London'"
       ]
      }
     ],
     "prompt_number": 172
    },
    {
     "cell_type": "markdown",
     "metadata": {},
     "source": [
      "__Exercise__ Write a function which takes as an argument a person's name and returns initials. For example 'Mary Ann Smith' would return 'MAS' and 'Francois de Ville' - 'FV' (so we get rid of 'd'). Put that function in a module (__hint__: `%%file module_name.py`). Then write another script which imports that module and uses the function you wrote to process the file with names (`famousauthors.txt` - the file will be in your directory - dowloaded from GitHub). "
     ]
    },
    {
     "cell_type": "markdown",
     "metadata": {},
     "source": [
      "## 8. Running Python scripts directly from the terminal"
     ]
    },
    {
     "cell_type": "markdown",
     "metadata": {},
     "source": [
      "So far we've run everything from IPython. Now we'll look at running Python scripts directly from the terminal. Open a terminal window and navigate to the directory in which you saved the script from the previous exercise. Let's say we called it `nameprocessor.py`. Type `python nameprocessor.py`.   \n",
      "\n",
      "It's also possible to run Python scripts just like other bash scripts - without calling the Python interpreter explicitly in the command line. In order to be able to do this, we need to add a \"shebang\" line at the top of our script:   \n",
      "`#! /usr/bin/env python`   \n",
      "\n",
      "Then we can run our script typing:    \n",
      "    \n",
      "`./nameprocessor.py`"
     ]
    },
    {
     "cell_type": "markdown",
     "metadata": {},
     "source": [
      "What if we want to process different files and provide the name of the file with the input data not in the source code but in the command line? We need to pass the file name as one of the Python arguments. This operation is performed with a method which is included in a module `sys` which supports interaction with the system."
     ]
    },
    {
     "cell_type": "markdown",
     "metadata": {},
     "source": [
      "`import sys\n",
      "\n",
      "......   \n",
      "  f = open(sys.argv[1])   \n",
      "......`"
     ]
    },
    {
     "cell_type": "markdown",
     "metadata": {},
     "source": [
      "Now to run our script we need to provide the name of the file we want to process in the command line:   \n",
      "    \n",
      "`./nameprocessor.py famousauthors.txt \n",
      "`\n",
      "    "
     ]
    }
   ],
   "metadata": {}
  }
 ]
}